{
 "cells": [
  {
   "cell_type": "code",
   "execution_count": 2,
   "metadata": {},
   "outputs": [],
   "source": [
    "import numpy as np\n",
    "import gym\n",
    "import random\n",
    "import time\n",
    "from IPython.display import clear_output"
   ]
  },
  {
   "cell_type": "code",
   "execution_count": 3,
   "metadata": {},
   "outputs": [],
   "source": [
    "my_env = gym.make(\"FrozenLake-v0\")"
   ]
  },
  {
   "cell_type": "code",
   "execution_count": 4,
   "metadata": {},
   "outputs": [
    {
     "name": "stdout",
     "output_type": "stream",
     "text": [
      "The initial empty q-table\n",
      "[[0. 0. 0. 0.]\n",
      " [0. 0. 0. 0.]\n",
      " [0. 0. 0. 0.]\n",
      " [0. 0. 0. 0.]\n",
      " [0. 0. 0. 0.]\n",
      " [0. 0. 0. 0.]\n",
      " [0. 0. 0. 0.]\n",
      " [0. 0. 0. 0.]\n",
      " [0. 0. 0. 0.]\n",
      " [0. 0. 0. 0.]\n",
      " [0. 0. 0. 0.]\n",
      " [0. 0. 0. 0.]\n",
      " [0. 0. 0. 0.]\n",
      " [0. 0. 0. 0.]\n",
      " [0. 0. 0. 0.]\n",
      " [0. 0. 0. 0.]]\n"
     ]
    }
   ],
   "source": [
    "size_of_action_space = my_env.action_space.n\n",
    "size_of_state_space = my_env.observation_space.n\n",
    "\n",
    "q_table = np.zeros((size_of_state_space,size_of_action_space))\n",
    "#The initial empty q-table\n",
    "print(\"The initial empty q-table\")\n",
    "print(q_table)"
   ]
  },
  {
   "cell_type": "markdown",
   "metadata": {},
   "source": [
    "Parameters to be used"
   ]
  },
  {
   "cell_type": "code",
   "execution_count": 5,
   "metadata": {},
   "outputs": [],
   "source": [
    "number_of_episodes = 10000\n",
    "#number_of_episodes = 2000\n",
    "maximum_steps_per_episode = 100\n",
    "\n",
    "learning_rate = 0.1\n",
    "discount_rate = 0.99\n",
    "\n",
    "exploration_rate = 1\n",
    "maximum_exploration_rate = 1\n",
    "minimum_exploration_rate = 0.01\n",
    "rate_of_exploration_decay = 0.001\n"
   ]
  },
  {
   "cell_type": "markdown",
   "metadata": {},
   "source": [
    "Now the training code"
   ]
  },
  {
   "cell_type": "code",
   "execution_count": 6,
   "metadata": {
    "scrolled": true
   },
   "outputs": [],
   "source": [
    "all_episode_rewards =[]\n",
    "\n",
    "#THe Q-Learning algorithm here\n",
    "#for all the episodes\n",
    "for episode in range(number_of_episodes):\n",
    "    state = my_env.reset()\n",
    "    \n",
    "    finished = False\n",
    "    rewards_current_episode = 0\n",
    "    \n",
    "    #for all steps in for each episodes\n",
    "    for step in range(maximum_steps_per_episode):\n",
    "        \n",
    "        #Exploration-exploitation trade-off\n",
    "        exploration_rate_threshold = random.uniform(0,1)\n",
    "        if exploration_rate_threshold > exploration_rate:\n",
    "            action = np.argmax(q_table[state,:])\n",
    "        else:\n",
    "            action = my_env.action_space.sample()\n",
    "            \n",
    "        new_state, reward, finished, info = my_env.step(action)\n",
    "        \n",
    "        #To update the Q-table for q(s,a)\n",
    "        q_table[state,action] = (1-learning_rate) * q_table[state,action] + learning_rate * (reward + discount_rate * np.max(q_table[new_state,:]))\n",
    "        state = new_state\n",
    "        rewards_current_episode += reward\n",
    "       \n",
    "        if finished ==True:\n",
    "            break\n",
    "                         \n",
    "                         \n",
    "        \n",
    "    #Exploration rate decay\n",
    "    exploration_rate = minimum_exploration_rate + \\\n",
    "    (maximum_exploration_rate - minimum_exploration_rate) * np.exp(-rate_of_exploration_decay*episode)\n",
    "                         \n",
    "    all_episode_rewards.append(rewards_current_episode)\n",
    "        \n"
   ]
  },
  {
   "cell_type": "code",
   "execution_count": 7,
   "metadata": {},
   "outputs": [
    {
     "name": "stdout",
     "output_type": "stream",
     "text": [
      "********Average rewards per thousand episodes********\n",
      "\n",
      "1000 :  0.05200000000000004\n",
      "2000 :  0.23300000000000018\n",
      "3000 :  0.4270000000000003\n",
      "4000 :  0.5230000000000004\n",
      "5000 :  0.6210000000000004\n",
      "6000 :  0.6630000000000005\n",
      "7000 :  0.6790000000000005\n",
      "8000 :  0.7050000000000005\n",
      "9000 :  0.6680000000000005\n",
      "10000 :  0.6500000000000005\n",
      "\n",
      "\n",
      "*******the updated Q-TABLE after training*******\n",
      "\n",
      "[[0.51986909 0.43379899 0.45420433 0.44421998]\n",
      " [0.30882641 0.2651956  0.32296555 0.39995914]\n",
      " [0.35538308 0.2308098  0.25625948 0.27101558]\n",
      " [0.11474967 0.041074   0.03321536 0.1121695 ]\n",
      " [0.54074005 0.36489186 0.32892762 0.38870645]\n",
      " [0.         0.         0.         0.        ]\n",
      " [0.37718596 0.1179113  0.15457639 0.07974381]\n",
      " [0.         0.         0.         0.        ]\n",
      " [0.41124377 0.40513504 0.29805339 0.56333238]\n",
      " [0.35834963 0.60458632 0.42061289 0.39198793]\n",
      " [0.60847364 0.28716834 0.40044903 0.26106866]\n",
      " [0.         0.         0.         0.        ]\n",
      " [0.         0.         0.         0.        ]\n",
      " [0.57423272 0.55278118 0.69847225 0.5501091 ]\n",
      " [0.71081276 0.85333241 0.74392886 0.71855973]\n",
      " [0.         0.         0.         0.        ]]\n"
     ]
    }
   ],
   "source": [
    "#calculate and print the average rewards per thousand episodes\n",
    "                         \n",
    "rewards_per_thousand_episodes = np.split(np.array(all_episode_rewards),number_of_episodes/1000)\n",
    "count = 1000\n",
    "print(\"********Average rewards per thousand episodes********\\n\")\n",
    "for r in rewards_per_thousand_episodes:\n",
    "    print(count, \": \", str(sum(r/1000)))\n",
    "    count +=1000\n",
    "\n",
    "                     \n",
    "#Print the updated q-table\n",
    "print(\"\\n\\n*******the updated Q-TABLE after training*******\\n\")\n",
    "print(q_table)"
   ]
  },
  {
   "cell_type": "markdown",
   "metadata": {},
   "source": [
    "Everthing worked up to this place!"
   ]
  },
  {
   "cell_type": "markdown",
   "metadata": {},
   "source": [
    "Now that we are done witht he training, we now begin to test out trained agent\n"
   ]
  },
  {
   "cell_type": "code",
   "execution_count": 8,
   "metadata": {},
   "outputs": [
    {
     "name": "stdout",
     "output_type": "stream",
     "text": [
      "Number of of Trials: 10\n",
      "\n",
      "Number of Successes: 7\n",
      "\n",
      "Number of Failures: 3\n",
      "\n",
      "Testing accuracy: 70.00 %\n"
     ]
    }
   ],
   "source": [
    "win=0\n",
    "num_episd = 10\n",
    "for the_episode in range(num_episd):\n",
    "    game_state = my_env.reset()\n",
    "    game_finished = False\n",
    "    print(\"*******EPISODE  \", the_episode+1, \"*********\\n\\n\\n\\n\")\n",
    "    time.sleep(2)\n",
    "    \n",
    "    for step in range(maximum_steps_per_episode):\n",
    "        clear_output(wait=True)\n",
    "        my_env.render()\n",
    "        time.sleep(0.6)\n",
    "        \n",
    "        game_action = np.argmax(q_table[game_state,:])\n",
    "        game_new_state, game_reward, game_finished, game_info = my_env.step(game_action)\n",
    "        \n",
    "        if game_finished:\n",
    "            clear_output(wait = True)\n",
    "            my_env.render()\n",
    "            if game_reward == 1:\n",
    "                win += 1\n",
    "                print(\"*****WOW!: You reached the goal!******\")\n",
    "                time.sleep(3.1)\n",
    "            else:\n",
    "                print(\"*****LOST: You fell through a hole******\")\n",
    "                time.sleep(3.1)\n",
    "            clear_output(wait=True)\n",
    "            break\n",
    "        \n",
    "        game_state = game_new_state\n",
    "    \n",
    "my_env.close()\n",
    "print(\"Number of of Trials: %d\\n\" %num_episd)\n",
    "print(\"Number of Successes: %d\\n\" %win)\n",
    "print(\"Number of Failures: %d\\n\" %(num_episd-win))\n",
    "print(\"Testing accuracy: %2.2f\" %((win/num_episd)*100), \"%\")"
   ]
  },
  {
   "cell_type": "code",
   "execution_count": null,
   "metadata": {},
   "outputs": [],
   "source": []
  },
  {
   "cell_type": "code",
   "execution_count": null,
   "metadata": {},
   "outputs": [],
   "source": []
  },
  {
   "cell_type": "code",
   "execution_count": null,
   "metadata": {},
   "outputs": [],
   "source": []
  },
  {
   "cell_type": "code",
   "execution_count": null,
   "metadata": {},
   "outputs": [],
   "source": []
  }
 ],
 "metadata": {
  "kernelspec": {
   "display_name": "Python 3",
   "language": "python",
   "name": "python3"
  },
  "language_info": {
   "codemirror_mode": {
    "name": "ipython",
    "version": 3
   },
   "file_extension": ".py",
   "mimetype": "text/x-python",
   "name": "python",
   "nbconvert_exporter": "python",
   "pygments_lexer": "ipython3",
   "version": "3.7.6"
  }
 },
 "nbformat": 4,
 "nbformat_minor": 4
}
